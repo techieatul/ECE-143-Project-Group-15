{
 "cells": [
  {
   "cell_type": "code",
   "execution_count": null,
   "id": "ce91470d",
   "metadata": {},
   "outputs": [],
   "source": [
    "import os\n",
    "import pandas as pd\n",
    "import numpy as np\n",
    "import matplotlib.pyplot as plt\n",
    "import plotly.express as px"
   ]
  },
  {
   "cell_type": "markdown",
   "id": "c9761c91",
   "metadata": {},
   "source": [
    "### Social Spending : A deep-dive"
   ]
  },
  {
   "cell_type": "code",
   "execution_count": null,
   "id": "41dbd848",
   "metadata": {},
   "outputs": [],
   "source": [
    "df = pd.read_csv('../data/Social_spend_agg.csv')\n",
    "country = ['United States', 'United Kingdom', 'Germany', 'France', 'Japan']\n",
    "df = df[df['Country'].isin(country)]\n",
    "df = df.rename(columns={\"Health\": \"health\",\\\n",
    "                          \"Active labour market programmes\": \"Almp\",\\\n",
    "                         \"Other social services\": \"Others\",\\\n",
    "                         \"Education\": \"Edu\",\\\n",
    "                         \"%health\": \"Health\",\\\n",
    "                          \"%almp\": \"Active labour market programmes\",\\\n",
    "                        \"%oss\": \"Other social services\",\\\n",
    "                        \"%edu\": \"Education\"})\n",
    "df = df[[\"Country\",\"Health\", \"Education\", \"Active labour market programmes\", \"Other social services\"]]\n",
    "\n",
    "df"
   ]
  },
  {
   "cell_type": "code",
   "execution_count": null,
   "id": "127d6de1",
   "metadata": {},
   "outputs": [],
   "source": [
    "fig = px.bar(df,\\\n",
    "             x=\"Country\",\\\n",
    "             y = df.columns[1:],\\\n",
    "             #title=\" Social Spending : A closer look\",\\\n",
    "             labels={\n",
    "                 'Country': 'Country',\n",
    "                 'value': 'Percentage of Social Spending',\n",
    "                'variable': 'Sub-sectors'\n",
    "             }#,\\\n",
    "             #template='white'\n",
    "             )\n",
    "\n",
    "fig.update_layout({\n",
    "    'plot_bgcolor': 'rgba(0,0,0,0)'\n",
    "})\n",
    "fig.show()"
   ]
  },
  {
   "cell_type": "code",
   "execution_count": null,
   "id": "6f1a4553",
   "metadata": {},
   "outputs": [],
   "source": []
  }
 ],
 "metadata": {},
 "nbformat": 4,
 "nbformat_minor": 5
}
