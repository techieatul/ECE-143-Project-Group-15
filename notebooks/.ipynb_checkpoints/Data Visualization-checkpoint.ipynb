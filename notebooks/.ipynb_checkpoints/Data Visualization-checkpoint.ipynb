{
 "cells": [
  {
   "cell_type": "code",
   "execution_count": null,
   "id": "4480b2fb",
   "metadata": {},
   "outputs": [],
   "source": [
    "import os\n",
    "import pandas as pd\n",
    "import numpy as np\n",
    "import matplotlib.pyplot as plt\n",
    "import plotly.express as px"
   ]
  },
  {
   "cell_type": "markdown",
   "id": "80c0f161",
   "metadata": {},
   "source": [
    "### Social Spending : A deep-dive"
   ]
  },
  {
   "cell_type": "code",
   "execution_count": null,
   "id": "9e300545",
   "metadata": {},
   "outputs": [],
   "source": [
    "df = pd.read_csv('../data/Social_spend_agg.csv')\n",
    "country = ['United States', 'United Kingdom', 'Germany', 'France', 'Japan']\n",
    "df = df[df['Country'].isin(country)]\n",
    "df = df.rename(columns={\"Health\": \"health\",\\\n",
    "                          \"Active labour market programmes\": \"Almp\",\\\n",
    "                         \"Other social services\": \"Others\",\\\n",
    "                         \"Education\": \"Edu\",\\\n",
    "                         \"%health\": \"Health\",\\\n",
    "                          \"%almp\": \"Active labour market programmes\",\\\n",
    "                        \"%oss\": \"Other social services\",\\\n",
    "                        \"%edu\": \"Education\"})\n",
    "df = df[[\"Country\",\"Health\", \"Education\", \"Active labour market programmes\", \"Other social services\"]]\n",
    "\n",
    "df"
   ]
  },
  {
   "cell_type": "code",
   "execution_count": null,
   "id": "6aaed8da",
   "metadata": {},
   "outputs": [],
   "source": [
    "fig = px.bar(df,\\\n",
    "             x=\"Country\",\\\n",
    "             y = df.columns[1:],\\\n",
    "             labels={\n",
    "                 'Country': 'Country',\n",
    "                 'value': 'Percentage of Social Spending',\n",
    "                'variable': 'Sub-sectors'\n",
    "})\n",
    "\n",
    "fig.update_layout({\n",
    "    'plot_bgcolor': 'rgba(0,0,0,0)'\n",
    "})\n",
    "fig.show()"
   ]
  },
  {
   "cell_type": "code",
   "execution_count": null,
   "id": "56e55d8b",
   "metadata": {},
   "outputs": [],
   "source": []
  }
 ],
 "metadata": {},
 "nbformat": 4,
 "nbformat_minor": 5
}
