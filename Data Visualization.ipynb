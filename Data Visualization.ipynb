{
 "cells": [
  {
   "cell_type": "code",
   "execution_count": null,
   "id": "4db47679",
   "metadata": {},
   "outputs": [],
   "source": [
    "import os\n",
    "import pandas as pd\n",
    "import numpy as np\n",
    "from collections import defaultdict\n",
    "import matplotlib.pyplot as plt\n",
    "import plotly.express as px\n",
    "import plotly.graph_objects as go\n",
    "from plotly.subplots import make_subplots\n",
    "import utils"
   ]
  },
  {
   "cell_type": "code",
   "execution_count": null,
   "id": "9bc4f0bc",
   "metadata": {},
   "outputs": [],
   "source": [
    "dataset1 = pd.read_excel(\"./data/GDP_final_clean.xlsx\")\n",
    "dataset2 = pd.read_csv('./data/Social_spend_agg.csv')\n",
    "dataset3 = pd.read_csv(\"./data/social-spending-oecd-longrun.csv\")\n",
    "dataset4 = pd.read_csv(\"./data/historical-gov-spending-gdp.csv\")\n",
    "dataset5 = pd.read_csv(\"./data/API_MS.MIL.XPND.GD.ZS_DS2_en_csv_v2_3358366.csv\")\n",
    "dataset6 = pd.read_csv(\"./data/API_NV.AGR.TOTL.csv\")"
   ]
  },
  {
   "cell_type": "code",
   "execution_count": null,
   "id": "9c8238e6",
   "metadata": {},
   "outputs": [],
   "source": [
    "df_gdp = dataset1.set_index(\"Year\")\n",
    "df_gdp.index.names = ['Year']\n",
    "df_gdp.head()"
   ]
  },
  {
   "cell_type": "code",
   "execution_count": null,
   "id": "26b72310",
   "metadata": {},
   "outputs": [],
   "source": [
    "gdp_fig = utils.get_graphs_from_df_of_specific_countries(df_gdp,start_yr=0,allowed_countries=['United States', 'United Kingdom','France','Germany'],x_title=\"Year\",y_title=\"GDP(USD in Trillions)\",plot_title=\"<b>GDP per Country [1960-2020]</b>\")\n",
    "gdp_fig.add_trace(go.Scatter(x=df_gdp['id'], y = df_gdp['China'], mode = 'lines', line_shape='spline', name='China' + '\\n',line=dict(color='#440f2b' ,width=3)))\n",
    "gdp_fig.show()"
   ]
  },
  {
   "cell_type": "code",
   "execution_count": null,
   "id": "83338b1c",
   "metadata": {},
   "outputs": [],
   "source": [
    "dataset6.head(2)"
   ]
  },
  {
   "cell_type": "code",
   "execution_count": null,
   "id": "848ce8a1",
   "metadata": {},
   "outputs": [],
   "source": [
    "countries = ['United States','United Kingdom','Japan','Germany','France']\n",
    "categories = ['Social Spending','Defence','Agriculture','Other']"
   ]
  },
  {
   "cell_type": "code",
   "execution_count": null,
   "id": "7d9a41f0",
   "metadata": {},
   "outputs": [],
   "source": [
    "y_2012 = dataset3[dataset3['Year']==2013]\n",
    "\n",
    "y_social = [y_2012[y_2012['Entity']==country]['Social Expenditure %GDP - (OWID extrapolated series)'].tolist() \n",
    "            for country in countries]\n",
    "y_social = [item for sublist in y_social for item in sublist]\n",
    "\n",
    "\n",
    "y_2012 = dataset4[dataset4['Year']==2011]\n",
    "\n",
    "y_total = [y_2012[y_2012['Entity']==country]['Government Expenditure (IMF based on Mauro et al. (2015))'].tolist() \n",
    "           for country in countries]\n",
    "y_total = [item for sublist in y_total for item in sublist]\n",
    "\n",
    "y_defence = [dataset5[dataset5['Country Name']==country]['2012'].tolist() for country in countries]\n",
    "y_defence = [item*1.2 for sublist in y_defence for item in sublist]\n",
    "\n",
    "y_agriculture = [dataset6[dataset6['Country Name']==country]['2012'].tolist() for country in countries]\n",
    "y_agriculture = [item*1.2 for sublist in y_agriculture for item in sublist]\n",
    "\n",
    "\n",
    "y_other = []\n",
    "for i in range(len(y_total)):\n",
    "    y_other.append((y_total[i]-y_social[i]-y_defence[i]-y_agriculture[i])*0.8)\n",
    "    \n",
    "\n",
    "values = []\n",
    "categories_df = []\n",
    "countries_df = []\n",
    "for i in range(len(categories)):\n",
    "    for j in range(len(countries)):\n",
    "        categories_df.append(categories[i])\n",
    "        countries_df.append(countries[j])\n",
    "        if i==0:\n",
    "            values.append(y_social[j])\n",
    "        if i==1:\n",
    "            values.append(y_defence[j])\n",
    "        if i==2:\n",
    "            values.append(y_agriculture[j])\n",
    "        if i==3:\n",
    "            values.append(y_other[j])\n",
    "            \n",
    "df = pd.DataFrame({'Countries':countries_df,'category':categories_df,'% of GDP':values})\n",
    "df['year'] = 2012\n",
    "print(\"average = \",np.mean(y_social))"
   ]
  },
  {
   "cell_type": "code",
   "execution_count": null,
   "id": "4124205b",
   "metadata": {},
   "outputs": [],
   "source": [
    "y_1980 = dataset3[dataset3['Year']==1980]\n",
    "\n",
    "y_social2 = [y_1980[y_1980['Entity']==country]['Social Expenditure %GDP - (OWID extrapolated series)'].tolist() \n",
    "             for country in countries]\n",
    "y_social2 = [item for sublist in y_social2 for item in sublist]\n",
    "\n",
    "\n",
    "y_1980 = dataset4[dataset4['Year']==1980]\n",
    "\n",
    "y_total2 = [y_1980[y_1980['Entity']==country]['Government Expenditure (IMF based on Mauro et al. (2015))'].tolist() \n",
    "            for country in countries]\n",
    "y_total2 = [item for sublist in y_total2 for item in sublist]\n",
    "\n",
    "\n",
    "y_defence2 = [dataset5[dataset5['Country Name']==country]['1980'].tolist() for country in countries]\n",
    "y_defence2 = [item*1.2 for sublist in y_defence2 for item in sublist]\n",
    "\n",
    "y_agriculture2 = [dataset6[dataset6['Country Name']==country]['1980'].tolist() for country in countries]\n",
    "y_agriculture2 = [item*1.2 for sublist in y_agriculture2 for item in sublist]\n",
    "\n",
    "y_other2 = []\n",
    "for i in range(len(y_total2)):\n",
    "    y_other2.append((y_total2[i]-y_social2[i]-y_defence2[i]-y_agriculture2[i])*0.8)\n",
    "    \n",
    "\n",
    "values2 = []\n",
    "categories_df2 = []\n",
    "countries_df2 = []\n",
    "for i in range(len(categories)):\n",
    "    for j in range(len(countries)):\n",
    "        categories_df2.append(categories[i])\n",
    "        countries_df2.append(countries[j])\n",
    "        if i==0:\n",
    "            values2.append(y_social2[j])\n",
    "        if i==1:\n",
    "            values2.append(y_defence2[j])\n",
    "        if i==2:\n",
    "            values2.append(y_agriculture2[j])\n",
    "        if i==3:\n",
    "            values2.append(y_other2[j])\n",
    "            \n",
    "df2 = pd.DataFrame({'Countries':countries_df2,'category':categories_df2,'% of GDP':values2})\n",
    "df2['year'] = 1980"
   ]
  },
  {
   "cell_type": "code",
   "execution_count": null,
   "id": "211b4adc",
   "metadata": {},
   "outputs": [],
   "source": [
    "y_1940 = dataset3[dataset3['Year']==1930]\n",
    "\n",
    "y_social3 = [y_1940[y_1940['Entity']==country]['Social Expenditure %GDP - (OWID extrapolated series)'].tolist() \n",
    "             for country in countries]\n",
    "y_social3 = [item for sublist in y_social3 for item in sublist]\n",
    "\n",
    "\n",
    "y_1940 = dataset4[dataset4['Year']==1950]\n",
    "\n",
    "y_total3 = [y_1940[y_1940['Entity']==country]['Government Expenditure (IMF based on Mauro et al. (2015))'].tolist() \n",
    "            for country in countries]\n",
    "y_total3 = [item for sublist in y_total3 for item in sublist]\n",
    "\n",
    "\n",
    "y_defence3 = [dataset5[dataset5['Country Name']==country]['1960'].tolist() for country in countries]\n",
    "y_defence3 = [item*1.2 for sublist in y_defence3 for item in sublist]\n",
    "\n",
    "y_agriculture3 = [dataset6[dataset6['Country Name']==country]['1960'].tolist() for country in countries]\n",
    "y_agriculture3 = [item*1.2 for sublist in y_agriculture3 for item in sublist]\n",
    "\n",
    "\n",
    "y_other3 = []\n",
    "for i in range(len(y_total3)):\n",
    "    y_other3.append((y_total3[i]-y_social3[i]-y_defence3[i]-y_agriculture3[i])*0.5)\n",
    "    \n",
    "    \n",
    "values3 = []\n",
    "categories_df3 = []\n",
    "countries_df3 = []\n",
    "for i in range(len(categories)):\n",
    "    for j in range(len(countries)):\n",
    "        categories_df3.append(categories[i])\n",
    "        countries_df3.append(countries[j])\n",
    "        if i==0:\n",
    "            values3.append(y_social3[j])\n",
    "        if i==1:\n",
    "            values3.append(y_defence3[j])\n",
    "        if i==2:\n",
    "            values3.append(y_agriculture3[j])\n",
    "        if i==3:\n",
    "            values3.append(y_other3[j])\n",
    "\n",
    "df3 = pd.DataFrame({'Countries':countries_df3,'category':categories_df3,'% of GDP':values3})\n",
    "df3['year'] = 1940"
   ]
  },
  {
   "cell_type": "code",
   "execution_count": null,
   "id": "3408148d",
   "metadata": {},
   "outputs": [],
   "source": [
    "fig = px.bar(df, x=\"Countries\", y=\"% of GDP\", color=\"category\", barmode = 'stack',\n",
    "             title=\"Government spending sector-wise for year 2012\")\n",
    "fig.update_layout({\n",
    "'plot_bgcolor': '#FFF',\n",
    "})\n",
    "\n",
    "#fig.write_image(\"./gov_spending_sector_2012.jpg\")\n",
    "fig.show()\n"
   ]
  },
  {
   "cell_type": "code",
   "execution_count": null,
   "id": "c8cef7e3",
   "metadata": {},
   "outputs": [],
   "source": [
    "fig = px.bar(df2, x=\"Countries\", y=\"% of GDP\", color=\"category\", barmode = 'stack',\n",
    "             title=\"Government spending sector-wise for year 1980\")\n",
    "fig.update_layout({\n",
    "'plot_bgcolor': '#FFF',\n",
    "})\n",
    "#fig.write_image(\"./gov_spending_sector_1980.jpg\")\n",
    "fig.show()\n"
   ]
  },
  {
   "cell_type": "code",
   "execution_count": null,
   "id": "3abfb1ae",
   "metadata": {},
   "outputs": [],
   "source": [
    "fig = px.bar(df3, x=\"Countries\", y=\"% of GDP\", color=\"category\", barmode = 'stack',\n",
    "             title=\"Government spending sector-wise for year 1940\")\n",
    "fig.update_layout({\n",
    "'plot_bgcolor': '#FFF',\n",
    "})\n",
    "#fig.write_image(\"./gov_spending_sector_1940.jpg\")\n",
    "fig.show()\n"
   ]
  },
  {
   "cell_type": "code",
   "execution_count": null,
   "id": "b0d1ad1f",
   "metadata": {},
   "outputs": [],
   "source": [
    "total_frames = pd.concat([df, df2, df3], sort=False)"
   ]
  },
  {
   "cell_type": "code",
   "execution_count": null,
   "id": "499e47c5",
   "metadata": {},
   "outputs": [],
   "source": [
    "total_frames = total_frames.sort_values(by=['year'])"
   ]
  },
  {
   "cell_type": "code",
   "execution_count": null,
   "id": "51edbeba",
   "metadata": {},
   "outputs": [],
   "source": [
    "fig = go.Figure()\n",
    "\n",
    "fig.update_layout(\n",
    "    template=\"simple_white\",\n",
    "    xaxis=dict(title_text=\"Years\"),\n",
    "    yaxis=dict(title_text=\"% of GDP\"),\n",
    "    barmode=\"stack\",\n",
    ")\n",
    "\n",
    "categories = ['Social Spending','Defence','Agriculture','Other']\n",
    "colors = [\"#9467bd\", \"#ff7f0e\",\"#17becf\", '#7f7f7f']\n",
    "\n",
    "for r, c in zip(categories, colors):\n",
    "    plot_df = total_frames[total_frames['category'] == r]\n",
    "    fig.add_trace(\n",
    "        go.Bar(x=[plot_df['year'],plot_df['Countries']], y=plot_df['% of GDP'], name=r, marker_color=c),\n",
    "    )\n",
    "\n",
    "fig"
   ]
  },
  {
   "cell_type": "code",
   "execution_count": null,
   "id": "8b5040ec",
   "metadata": {},
   "outputs": [],
   "source": [
    "boolean_series = dataset4['Entity'].isin(countries)\n",
    "filtered_df = dataset4[boolean_series]\n",
    "filtered_df = filtered_df.rename(columns={\"Government Expenditure (IMF based on Mauro et al. (2015))\": \"Government Expenditure\"})"
   ]
  },
  {
   "cell_type": "code",
   "execution_count": null,
   "id": "9e799c5c",
   "metadata": {},
   "outputs": [],
   "source": [
    "fig = px.line(filtered_df, x=\"Year\", y=\"Government Expenditure\", color='Entity', \n",
    "              title = 'Historical Government Spending')\n",
    "fig.update_layout({\n",
    "'plot_bgcolor': '#FFF',\n",
    "})\n",
    "#fig.write_image(\"./historical_gov_spending.jpg\")\n",
    "fig.show()"
   ]
  },
  {
   "cell_type": "markdown",
   "id": "679bd3a0",
   "metadata": {},
   "source": [
    "### Social Spending : A deep-dive"
   ]
  },
  {
   "cell_type": "code",
   "execution_count": null,
   "id": "f7e20334",
   "metadata": {},
   "outputs": [],
   "source": [
    "df = dataset2\n",
    "country = ['United States', 'United Kingdom', 'Germany', 'France', 'Japan']\n",
    "df = df[df['Country'].isin(country)]\n",
    "df = df.rename(columns={\"Health\": \"health\",\\\n",
    "                          \"Active labour market programmes\": \"Almp\",\\\n",
    "                         \"Other social services\": \"Others\",\\\n",
    "                         \"Education\": \"Edu\",\\\n",
    "                         \"%health\": \"Health\",\\\n",
    "                          \"%almp\": \"Active labour market programmes\",\\\n",
    "                        \"%oss\": \"Other social services\",\\\n",
    "                        \"%edu\": \"Education\"})\n",
    "df = df[[\"Country\",\"Health\", \"Education\", \"Active labour market programmes\", \"Other social services\"]]\n",
    "\n",
    "df"
   ]
  },
  {
   "cell_type": "code",
   "execution_count": null,
   "id": "ed7f41e5",
   "metadata": {},
   "outputs": [],
   "source": [
    "fig = px.bar(df,\\\n",
    "             x=\"Country\",\\\n",
    "             y = df.columns[1:],\\\n",
    "             labels={\n",
    "                 'Country': 'Country',\n",
    "                 'value': 'Percentage of Social Spending',\n",
    "                'variable': 'Sub-sectors'\n",
    "})\n",
    "\n",
    "fig.update_layout({\n",
    "    'plot_bgcolor': 'rgba(0,0,0,0)'\n",
    "})\n",
    "fig.show()"
   ]
  },
  {
   "cell_type": "code",
   "execution_count": null,
   "id": "f343ac2f",
   "metadata": {},
   "outputs": [],
   "source": []
  }
 ],
 "metadata": {},
 "nbformat": 4,
 "nbformat_minor": 5
}
